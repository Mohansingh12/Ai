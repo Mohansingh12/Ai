{
 "cells": [
  {
   "cell_type": "code",
   "execution_count": 1,
   "id": "2c116fe2-beb2-4e00-9553-2d2fe181e54b",
   "metadata": {},
   "outputs": [],
   "source": [
    "import tensorflow as tf"
   ]
  },
  {
   "cell_type": "code",
   "execution_count": 2,
   "id": "28fae423-dc69-4d88-8f6d-01e63241d4f1",
   "metadata": {},
   "outputs": [],
   "source": [
    "from tensorflow import keras "
   ]
  },
  {
   "cell_type": "code",
   "execution_count": 22,
   "id": "a441c29d-9ddf-4c7b-8acb-87b246f001bf",
   "metadata": {},
   "outputs": [],
   "source": [
    "import cv2\n",
    "import numpy as np\n",
    "\n"
   ]
  },
  {
   "cell_type": "code",
   "execution_count": 21,
   "id": "39c37880-4864-45c1-b9f0-59c5f7b59660",
   "metadata": {},
   "outputs": [
    {
     "ename": "ImportError",
     "evalue": "Missing optional dependency 'pooch' required for scipy.datasets module. Please use pip or conda to install 'pooch'.",
     "output_type": "error",
     "traceback": [
      "\u001b[1;31m---------------------------------------------------------------------------\u001b[0m",
      "\u001b[1;31mImportError\u001b[0m                               Traceback (most recent call last)",
      "Cell \u001b[1;32mIn[21], line 1\u001b[0m\n\u001b[1;32m----> 1\u001b[0m i \u001b[38;5;241m=\u001b[39m ascent()\n",
      "File \u001b[1;32mC:\\ProgramData\\anaconda3\\Lib\\site-packages\\scipy\\datasets\\_fetchers.py:71\u001b[0m, in \u001b[0;36mascent\u001b[1;34m()\u001b[0m\n\u001b[0;32m     66\u001b[0m \u001b[38;5;28;01mimport\u001b[39;00m \u001b[38;5;21;01mpickle\u001b[39;00m\n\u001b[0;32m     68\u001b[0m \u001b[38;5;66;03m# The file will be downloaded automatically the first time this is run,\u001b[39;00m\n\u001b[0;32m     69\u001b[0m \u001b[38;5;66;03m# returning the path to the downloaded file. Afterwards, Pooch finds\u001b[39;00m\n\u001b[0;32m     70\u001b[0m \u001b[38;5;66;03m# it in the local cache and doesn't repeat the download.\u001b[39;00m\n\u001b[1;32m---> 71\u001b[0m fname \u001b[38;5;241m=\u001b[39m fetch_data(\u001b[38;5;124m\"\u001b[39m\u001b[38;5;124mascent.dat\u001b[39m\u001b[38;5;124m\"\u001b[39m)\n\u001b[0;32m     72\u001b[0m \u001b[38;5;66;03m# Now we just need to load it with our standard Python tools.\u001b[39;00m\n\u001b[0;32m     73\u001b[0m \u001b[38;5;28;01mwith\u001b[39;00m \u001b[38;5;28mopen\u001b[39m(fname, \u001b[38;5;124m'\u001b[39m\u001b[38;5;124mrb\u001b[39m\u001b[38;5;124m'\u001b[39m) \u001b[38;5;28;01mas\u001b[39;00m f:\n",
      "File \u001b[1;32mC:\\ProgramData\\anaconda3\\Lib\\site-packages\\scipy\\datasets\\_fetchers.py:27\u001b[0m, in \u001b[0;36mfetch_data\u001b[1;34m(dataset_name, data_fetcher)\u001b[0m\n\u001b[0;32m     25\u001b[0m \u001b[38;5;28;01mdef\u001b[39;00m \u001b[38;5;21mfetch_data\u001b[39m(dataset_name, data_fetcher\u001b[38;5;241m=\u001b[39mdata_fetcher):\n\u001b[0;32m     26\u001b[0m     \u001b[38;5;28;01mif\u001b[39;00m data_fetcher \u001b[38;5;129;01mis\u001b[39;00m \u001b[38;5;28;01mNone\u001b[39;00m:\n\u001b[1;32m---> 27\u001b[0m         \u001b[38;5;28;01mraise\u001b[39;00m \u001b[38;5;167;01mImportError\u001b[39;00m(\u001b[38;5;124m\"\u001b[39m\u001b[38;5;124mMissing optional dependency \u001b[39m\u001b[38;5;124m'\u001b[39m\u001b[38;5;124mpooch\u001b[39m\u001b[38;5;124m'\u001b[39m\u001b[38;5;124m required \u001b[39m\u001b[38;5;124m\"\u001b[39m\n\u001b[0;32m     28\u001b[0m                           \u001b[38;5;124m\"\u001b[39m\u001b[38;5;124mfor scipy.datasets module. Please use pip or \u001b[39m\u001b[38;5;124m\"\u001b[39m\n\u001b[0;32m     29\u001b[0m                           \u001b[38;5;124m\"\u001b[39m\u001b[38;5;124mconda to install \u001b[39m\u001b[38;5;124m'\u001b[39m\u001b[38;5;124mpooch\u001b[39m\u001b[38;5;124m'\u001b[39m\u001b[38;5;124m.\u001b[39m\u001b[38;5;124m\"\u001b[39m)\n\u001b[0;32m     30\u001b[0m     \u001b[38;5;66;03m# The \"fetch\" method returns the full path to the downloaded data file.\u001b[39;00m\n\u001b[0;32m     31\u001b[0m     \u001b[38;5;28;01mreturn\u001b[39;00m data_fetcher\u001b[38;5;241m.\u001b[39mfetch(dataset_name)\n",
      "\u001b[1;31mImportError\u001b[0m: Missing optional dependency 'pooch' required for scipy.datasets module. Please use pip or conda to install 'pooch'."
     ]
    }
   ],
   "source": [
    "i = ascent()"
   ]
  },
  {
   "cell_type": "code",
   "execution_count": null,
   "id": "0b99e8be-8d96-4b1a-bfec-10a639c1b901",
   "metadata": {},
   "outputs": [],
   "source": []
  }
 ],
 "metadata": {
  "kernelspec": {
   "display_name": "Python 3 (ipykernel)",
   "language": "python",
   "name": "python3"
  },
  "language_info": {
   "codemirror_mode": {
    "name": "ipython",
    "version": 3
   },
   "file_extension": ".py",
   "mimetype": "text/x-python",
   "name": "python",
   "nbconvert_exporter": "python",
   "pygments_lexer": "ipython3",
   "version": "3.12.7"
  }
 },
 "nbformat": 4,
 "nbformat_minor": 5
}
