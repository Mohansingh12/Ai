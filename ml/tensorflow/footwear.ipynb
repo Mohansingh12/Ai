{
 "cells": [
  {
   "cell_type": "code",
   "execution_count": 3,
   "id": "54097a8e-d93e-438c-b125-78e085e0b08a",
   "metadata": {},
   "outputs": [],
   "source": [
    "import tensorflow as tf\n",
    "from tensorflow import keras"
   ]
  },
  {
   "cell_type": "code",
   "execution_count": 4,
   "id": "8ef8dece-b572-48fc-978d-4612cba89eda",
   "metadata": {},
   "outputs": [
    {
     "name": "stdout",
     "output_type": "stream",
     "text": [
      "2.19.0\n"
     ]
    }
   ],
   "source": [
    "print(tf.__version__)"
   ]
  },
  {
   "cell_type": "code",
   "execution_count": 5,
   "id": "8d67c68a-fcd0-4bda-9758-4d99c465fae7",
   "metadata": {},
   "outputs": [],
   "source": [
    "shoe_data=keras.datasets.fashion_mnist"
   ]
  },
  {
   "cell_type": "code",
   "execution_count": 17,
   "id": "52610ca6-11af-4aa3-982e-05dc1842edf6",
   "metadata": {},
   "outputs": [],
   "source": [
    "(training_images,training_labels),(test_images,test_labels)=shoe_data.load_data()"
   ]
  },
  {
   "cell_type": "code",
   "execution_count": 82,
   "id": "c5791260-cb57-44ff-aa8b-9299d8294165",
   "metadata": {},
   "outputs": [],
   "source": [
    "class myCallback(tf.keras.callbacks.Callback):\n",
    "  def on_epoch_end(self, epoch, logs={}):\n",
    "    if(logs.get('accuracy')>0.95):\n",
    "      print(\"\\nReached 95% accuracy so cancelling training!\")\n",
    "      self.model.stop_training = True\n",
    "\n",
    "callbacks = myCallback()"
   ]
  },
  {
   "cell_type": "code",
   "execution_count": 83,
   "id": "45a7e047-9644-4451-9a25-5838184a3cb4",
   "metadata": {},
   "outputs": [
    {
     "name": "stdout",
     "output_type": "stream",
     "text": [
      "9\n",
      "[[0.00000000e+00 0.00000000e+00 0.00000000e+00 0.00000000e+00\n",
      "  0.00000000e+00 0.00000000e+00 0.00000000e+00 0.00000000e+00\n",
      "  0.00000000e+00 0.00000000e+00 0.00000000e+00 0.00000000e+00\n",
      "  0.00000000e+00 0.00000000e+00 0.00000000e+00 0.00000000e+00\n",
      "  0.00000000e+00 0.00000000e+00 0.00000000e+00 0.00000000e+00\n",
      "  0.00000000e+00 0.00000000e+00 0.00000000e+00 0.00000000e+00\n",
      "  0.00000000e+00 0.00000000e+00 0.00000000e+00 0.00000000e+00]\n",
      " [0.00000000e+00 0.00000000e+00 0.00000000e+00 0.00000000e+00\n",
      "  0.00000000e+00 0.00000000e+00 0.00000000e+00 0.00000000e+00\n",
      "  0.00000000e+00 0.00000000e+00 0.00000000e+00 0.00000000e+00\n",
      "  0.00000000e+00 0.00000000e+00 0.00000000e+00 0.00000000e+00\n",
      "  0.00000000e+00 0.00000000e+00 0.00000000e+00 0.00000000e+00\n",
      "  0.00000000e+00 0.00000000e+00 0.00000000e+00 0.00000000e+00\n",
      "  0.00000000e+00 0.00000000e+00 0.00000000e+00 0.00000000e+00]\n",
      " [0.00000000e+00 0.00000000e+00 0.00000000e+00 0.00000000e+00\n",
      "  0.00000000e+00 0.00000000e+00 0.00000000e+00 0.00000000e+00\n",
      "  0.00000000e+00 0.00000000e+00 0.00000000e+00 0.00000000e+00\n",
      "  0.00000000e+00 0.00000000e+00 0.00000000e+00 0.00000000e+00\n",
      "  0.00000000e+00 0.00000000e+00 0.00000000e+00 0.00000000e+00\n",
      "  0.00000000e+00 0.00000000e+00 0.00000000e+00 0.00000000e+00\n",
      "  0.00000000e+00 0.00000000e+00 0.00000000e+00 0.00000000e+00]\n",
      " [0.00000000e+00 0.00000000e+00 0.00000000e+00 0.00000000e+00\n",
      "  0.00000000e+00 0.00000000e+00 0.00000000e+00 0.00000000e+00\n",
      "  0.00000000e+00 0.00000000e+00 0.00000000e+00 0.00000000e+00\n",
      "  1.53787005e-05 0.00000000e+00 0.00000000e+00 1.99923106e-04\n",
      "  1.12264514e-03 0.00000000e+00 0.00000000e+00 1.53787005e-05\n",
      "  6.15148020e-05 0.00000000e+00 0.00000000e+00 0.00000000e+00\n",
      "  0.00000000e+00 1.53787005e-05 1.53787005e-05 0.00000000e+00]\n",
      " [0.00000000e+00 0.00000000e+00 0.00000000e+00 0.00000000e+00\n",
      "  0.00000000e+00 0.00000000e+00 0.00000000e+00 0.00000000e+00\n",
      "  0.00000000e+00 0.00000000e+00 0.00000000e+00 0.00000000e+00\n",
      "  4.61361015e-05 0.00000000e+00 5.53633218e-04 2.09150327e-03\n",
      "  1.95309496e-03 9.53479431e-04 8.30449827e-04 0.00000000e+00\n",
      "  0.00000000e+00 0.00000000e+00 1.53787005e-05 4.61361015e-05\n",
      "  6.15148020e-05 0.00000000e+00 0.00000000e+00 4.61361015e-05]\n",
      " [0.00000000e+00 0.00000000e+00 0.00000000e+00 0.00000000e+00\n",
      "  0.00000000e+00 0.00000000e+00 0.00000000e+00 0.00000000e+00\n",
      "  0.00000000e+00 0.00000000e+00 0.00000000e+00 0.00000000e+00\n",
      "  9.22722030e-05 0.00000000e+00 1.56862745e-03 3.13725490e-03\n",
      "  2.70665129e-03 2.06074587e-03 2.21453287e-03 1.89158016e-03\n",
      "  3.53710111e-04 0.00000000e+00 0.00000000e+00 0.00000000e+00\n",
      "  0.00000000e+00 1.84544406e-04 1.53787005e-04 0.00000000e+00]\n",
      " [0.00000000e+00 0.00000000e+00 0.00000000e+00 0.00000000e+00\n",
      "  0.00000000e+00 0.00000000e+00 0.00000000e+00 0.00000000e+00\n",
      "  0.00000000e+00 0.00000000e+00 0.00000000e+00 0.00000000e+00\n",
      "  0.00000000e+00 0.00000000e+00 2.38369858e-03 3.62937332e-03\n",
      "  3.18339100e-03 2.73740869e-03 1.64552095e-03 2.39907728e-03\n",
      "  2.47597078e-03 1.67627835e-03 9.84236832e-04 3.53710111e-04\n",
      "  1.18415994e-03 1.99923106e-03 1.10726644e-03 2.30680507e-04]\n",
      " [0.00000000e+00 0.00000000e+00 0.00000000e+00 0.00000000e+00\n",
      "  0.00000000e+00 0.00000000e+00 0.00000000e+00 0.00000000e+00\n",
      "  0.00000000e+00 0.00000000e+00 0.00000000e+00 1.53787005e-05\n",
      "  0.00000000e+00 1.06113033e-03 3.18339100e-03 3.42945021e-03\n",
      "  3.35255671e-03 3.32179931e-03 3.32179931e-03 2.50672818e-03\n",
      "  1.95309496e-03 1.86082276e-03 1.87620146e-03 2.24529027e-03\n",
      "  2.16839677e-03 1.35332564e-03 2.64513649e-03 1.01499423e-03]\n",
      " [0.00000000e+00 0.00000000e+00 0.00000000e+00 0.00000000e+00\n",
      "  0.00000000e+00 0.00000000e+00 0.00000000e+00 0.00000000e+00\n",
      "  0.00000000e+00 1.53787005e-05 1.53787005e-05 1.53787005e-05\n",
      "  0.00000000e+00 3.07574010e-03 3.56785852e-03 3.56785852e-03\n",
      "  3.58323722e-03 3.52172241e-03 3.42945021e-03 3.42945021e-03\n",
      "  3.30642061e-03 3.27566321e-03 2.52210688e-03 1.95309496e-03\n",
      "  1.89158016e-03 3.01422530e-03 3.52172241e-03 0.00000000e+00]\n",
      " [0.00000000e+00 0.00000000e+00 0.00000000e+00 0.00000000e+00\n",
      "  0.00000000e+00 0.00000000e+00 0.00000000e+00 0.00000000e+00\n",
      "  0.00000000e+00 0.00000000e+00 0.00000000e+00 0.00000000e+00\n",
      "  0.00000000e+00 2.81430219e-03 3.46020761e-03 3.32179931e-03\n",
      "  3.42945021e-03 3.50634371e-03 3.61399462e-03 3.49096501e-03\n",
      "  3.44482891e-03 3.41407151e-03 3.44482891e-03 3.39869281e-03\n",
      "  3.42945021e-03 3.76778162e-03 2.66051519e-03 0.00000000e+00]\n",
      " [0.00000000e+00 0.00000000e+00 0.00000000e+00 0.00000000e+00\n",
      "  0.00000000e+00 0.00000000e+00 0.00000000e+00 0.00000000e+00\n",
      "  0.00000000e+00 0.00000000e+00 0.00000000e+00 0.00000000e+00\n",
      "  0.00000000e+00 2.96808920e-03 3.50634371e-03 3.35255671e-03\n",
      "  3.27566321e-03 3.04498270e-03 2.76816609e-03 3.26028451e-03\n",
      "  3.22952710e-03 3.24490581e-03 3.27566321e-03 3.42945021e-03\n",
      "  3.38331411e-03 3.73702422e-03 3.10649750e-03 0.00000000e+00]\n",
      " [0.00000000e+00 0.00000000e+00 0.00000000e+00 0.00000000e+00\n",
      "  0.00000000e+00 0.00000000e+00 0.00000000e+00 0.00000000e+00\n",
      "  0.00000000e+00 1.53787005e-05 4.61361015e-05 0.00000000e+00\n",
      "  1.84544406e-04 3.36793541e-03 3.38331411e-03 3.26028451e-03\n",
      "  3.35255671e-03 2.95271050e-03 2.59900038e-03 3.49096501e-03\n",
      "  3.19876970e-03 3.35255671e-03 3.44482891e-03 3.26028451e-03\n",
      "  3.47558631e-03 3.02960400e-03 3.21414840e-03 7.99692426e-04]\n",
      " [0.00000000e+00 0.00000000e+00 0.00000000e+00 0.00000000e+00\n",
      "  0.00000000e+00 0.00000000e+00 0.00000000e+00 0.00000000e+00\n",
      "  0.00000000e+00 0.00000000e+00 9.22722030e-05 0.00000000e+00\n",
      "  1.52249135e-03 3.75240292e-03 3.41407151e-03 3.38331411e-03\n",
      "  3.35255671e-03 3.12187620e-03 3.04498270e-03 3.39869281e-03\n",
      "  3.30642061e-03 3.27566321e-03 3.41407151e-03 3.38331411e-03\n",
      "  3.76778162e-03 1.83006536e-03 2.56824298e-03 8.61207228e-04]\n",
      " [0.00000000e+00 0.00000000e+00 0.00000000e+00 0.00000000e+00\n",
      "  0.00000000e+00 0.00000000e+00 0.00000000e+00 0.00000000e+00\n",
      "  0.00000000e+00 6.15148020e-05 0.00000000e+00 0.00000000e+00\n",
      "  8.45828527e-04 3.62937332e-03 3.50634371e-03 3.53710111e-03\n",
      "  3.50634371e-03 3.69088812e-03 3.56785852e-03 3.27566321e-03\n",
      "  3.35255671e-03 3.42945021e-03 3.59861592e-03 3.33717801e-03\n",
      "  3.33717801e-03 3.21414840e-03 1.41484045e-03 0.00000000e+00]\n",
      " [0.00000000e+00 0.00000000e+00 1.53787005e-05 6.15148020e-05\n",
      "  9.22722030e-05 1.07650903e-04 3.07574010e-05 0.00000000e+00\n",
      "  0.00000000e+00 0.00000000e+00 0.00000000e+00 0.00000000e+00\n",
      "  3.64475202e-03 3.47558631e-03 3.33717801e-03 3.42945021e-03\n",
      "  3.41407151e-03 3.36793541e-03 3.41407151e-03 3.39869281e-03\n",
      "  3.32179931e-03 3.42945021e-03 3.52172241e-03 3.30642061e-03\n",
      "  3.35255671e-03 3.92156863e-03 1.18415994e-03 0.00000000e+00]\n",
      " [0.00000000e+00 4.61361015e-05 0.00000000e+00 0.00000000e+00\n",
      "  0.00000000e+00 0.00000000e+00 0.00000000e+00 0.00000000e+00\n",
      "  0.00000000e+00 9.53479431e-04 2.22991157e-03 3.13725490e-03\n",
      "  3.50634371e-03 3.18339100e-03 3.27566321e-03 3.39869281e-03\n",
      "  3.35255671e-03 3.19876970e-03 3.24490581e-03 3.35255671e-03\n",
      "  3.44482891e-03 3.42945021e-03 3.36793541e-03 3.30642061e-03\n",
      "  3.44482891e-03 3.75240292e-03 2.44521338e-03 0.00000000e+00]\n",
      " [0.00000000e+00 0.00000000e+00 0.00000000e+00 0.00000000e+00\n",
      "  2.76816609e-04 6.76662822e-04 1.26105344e-03 1.64552095e-03\n",
      "  2.90657439e-03 3.50634371e-03 3.38331411e-03 3.41407151e-03\n",
      "  3.33717801e-03 3.47558631e-03 3.07574010e-03 3.15263360e-03\n",
      "  3.24490581e-03 3.53710111e-03 3.44482891e-03 3.59861592e-03\n",
      "  2.70665129e-03 2.89119569e-03 3.84467512e-03 3.81391772e-03\n",
      "  3.58323722e-03 3.66013072e-03 3.30642061e-03 0.00000000e+00]\n",
      " [0.00000000e+00 8.76585928e-04 2.87581699e-03 3.19876970e-03\n",
      "  3.44482891e-03 3.39869281e-03 3.44482891e-03 3.19876970e-03\n",
      "  3.13725490e-03 3.29104191e-03 3.19876970e-03 3.21414840e-03\n",
      "  3.07574010e-03 2.44521338e-03 3.76778162e-03 2.96808920e-03\n",
      "  3.16801230e-03 3.42945021e-03 3.92156863e-03 3.92156863e-03\n",
      "  3.39869281e-03 3.59861592e-03 3.39869281e-03 3.24490581e-03\n",
      "  3.38331411e-03 3.56785852e-03 3.78316032e-03 0.00000000e+00]\n",
      " [4.61361015e-05 3.10649750e-03 3.50634371e-03 3.44482891e-03\n",
      "  3.39869281e-03 3.24490581e-03 3.24490581e-03 3.29104191e-03\n",
      "  3.15263360e-03 3.15263360e-03 3.15263360e-03 3.38331411e-03\n",
      "  3.69088812e-03 1.23029604e-03 2.30680507e-03 3.92156863e-03\n",
      "  3.52172241e-03 3.39869281e-03 2.89119569e-03 2.36831988e-03\n",
      "  2.93733180e-03 3.22952710e-03 3.13725490e-03 3.21414840e-03\n",
      "  3.41407151e-03 3.50634371e-03 3.46020761e-03 0.00000000e+00]\n",
      " [1.50711265e-03 3.58323722e-03 3.04498270e-03 3.22952710e-03\n",
      "  3.41407151e-03 3.52172241e-03 3.52172241e-03 3.59861592e-03\n",
      "  3.82929642e-03 3.38331411e-03 2.98346790e-03 3.30642061e-03\n",
      "  3.33717801e-03 3.70626682e-03 9.99615532e-04 1.12264514e-03\n",
      "  1.63014225e-03 1.79930796e-03 2.58362168e-03 3.36793541e-03\n",
      "  3.39869281e-03 3.30642061e-03 3.33717801e-03 3.42945021e-03\n",
      "  3.42945021e-03 3.44482891e-03 3.52172241e-03 4.45982314e-04]\n",
      " [1.15340254e-03 3.13725490e-03 3.26028451e-03 3.13725490e-03\n",
      "  2.96808920e-03 3.15263360e-03 3.24490581e-03 3.46020761e-03\n",
      "  3.32179931e-03 2.84505959e-03 3.02960400e-03 3.16801230e-03\n",
      "  3.04498270e-03 3.27566321e-03 3.69088812e-03 2.99884660e-03\n",
      "  3.49096501e-03 3.76778162e-03 3.67550942e-03 3.42945021e-03\n",
      "  3.35255671e-03 3.26028451e-03 3.21414840e-03 3.41407151e-03\n",
      "  3.38331411e-03 3.39869281e-03 3.53710111e-03 1.03037293e-03]\n",
      " [7.38177624e-04 3.12187620e-03 2.81430219e-03 2.98346790e-03\n",
      "  3.27566321e-03 3.02960400e-03 2.84505959e-03 2.92195309e-03\n",
      "  2.98346790e-03 2.95271050e-03 3.10649750e-03 3.29104191e-03\n",
      "  3.36793541e-03 3.39869281e-03 3.38331411e-03 3.62937332e-03\n",
      "  3.46020761e-03 3.32179931e-03 3.06036140e-03 3.16801230e-03\n",
      "  2.86043829e-03 2.78354479e-03 2.72202999e-03 2.64513649e-03\n",
      "  2.78354479e-03 3.15263360e-03 3.16801230e-03 1.76855056e-03]\n",
      " [0.00000000e+00 1.87620146e-03 3.36793541e-03 2.96808920e-03\n",
      "  2.75278739e-03 2.62975779e-03 2.81430219e-03 3.01422530e-03\n",
      "  3.13725490e-03 3.22952710e-03 3.27566321e-03 3.18339100e-03\n",
      "  3.24490581e-03 3.22952710e-03 3.07574010e-03 3.01422530e-03\n",
      "  2.98346790e-03 2.93733180e-03 2.99884660e-03 2.93733180e-03\n",
      "  3.04498270e-03 2.95271050e-03 2.70665129e-03 2.39907728e-03\n",
      "  2.56824298e-03 2.72202999e-03 3.22952710e-03 1.41484045e-03]\n",
      " [0.00000000e+00 0.00000000e+00 1.13802384e-03 2.90657439e-03\n",
      "  3.26028451e-03 2.93733180e-03 2.69127259e-03 2.64513649e-03\n",
      "  2.69127259e-03 2.78354479e-03 2.84505959e-03 2.89119569e-03\n",
      "  2.90657439e-03 2.89119569e-03 2.96808920e-03 3.04498270e-03\n",
      "  3.13725490e-03 3.21414840e-03 3.22952710e-03 3.22952710e-03\n",
      "  3.24490581e-03 2.89119569e-03 2.89119569e-03 2.98346790e-03\n",
      "  2.95271050e-03 3.32179931e-03 2.61437908e-03 0.00000000e+00]\n",
      " [3.07574010e-05 0.00000000e+00 0.00000000e+00 0.00000000e+00\n",
      "  1.01499423e-03 3.07574010e-03 3.41407151e-03 3.64475202e-03\n",
      "  3.67550942e-03 3.72164552e-03 3.78316032e-03 3.73702422e-03\n",
      "  3.75240292e-03 3.39869281e-03 3.38331411e-03 2.96808920e-03\n",
      "  2.93733180e-03 2.75278739e-03 2.79892349e-03 2.79892349e-03\n",
      "  2.78354479e-03 2.70665129e-03 2.55286428e-03 2.58362168e-03\n",
      "  1.52249135e-03 8.91964629e-04 0.00000000e+00 0.00000000e+00]\n",
      " [0.00000000e+00 0.00000000e+00 0.00000000e+00 0.00000000e+00\n",
      "  0.00000000e+00 0.00000000e+00 0.00000000e+00 6.15148020e-04\n",
      "  9.38100730e-04 6.76662822e-04 1.10726644e-03 6.30526720e-04\n",
      "  5.38254517e-04 0.00000000e+00 0.00000000e+00 0.00000000e+00\n",
      "  0.00000000e+00 0.00000000e+00 0.00000000e+00 0.00000000e+00\n",
      "  0.00000000e+00 0.00000000e+00 0.00000000e+00 0.00000000e+00\n",
      "  0.00000000e+00 0.00000000e+00 0.00000000e+00 0.00000000e+00]\n",
      " [0.00000000e+00 0.00000000e+00 0.00000000e+00 0.00000000e+00\n",
      "  0.00000000e+00 0.00000000e+00 0.00000000e+00 0.00000000e+00\n",
      "  0.00000000e+00 0.00000000e+00 0.00000000e+00 0.00000000e+00\n",
      "  0.00000000e+00 0.00000000e+00 0.00000000e+00 0.00000000e+00\n",
      "  0.00000000e+00 0.00000000e+00 0.00000000e+00 0.00000000e+00\n",
      "  0.00000000e+00 0.00000000e+00 0.00000000e+00 0.00000000e+00\n",
      "  0.00000000e+00 0.00000000e+00 0.00000000e+00 0.00000000e+00]\n",
      " [0.00000000e+00 0.00000000e+00 0.00000000e+00 0.00000000e+00\n",
      "  0.00000000e+00 0.00000000e+00 0.00000000e+00 0.00000000e+00\n",
      "  0.00000000e+00 0.00000000e+00 0.00000000e+00 0.00000000e+00\n",
      "  0.00000000e+00 0.00000000e+00 0.00000000e+00 0.00000000e+00\n",
      "  0.00000000e+00 0.00000000e+00 0.00000000e+00 0.00000000e+00\n",
      "  0.00000000e+00 0.00000000e+00 0.00000000e+00 0.00000000e+00\n",
      "  0.00000000e+00 0.00000000e+00 0.00000000e+00 0.00000000e+00]]\n"
     ]
    },
    {
     "data": {
      "image/png": "[encoded data removed]",
      "text/plain": [
       "<Figure size 640x480 with 1 Axes>"
      ]
     },
     "metadata": {},
     "output_type": "display_data"
    }
   ],
   "source": [
    "import matplotlib.pyplot as plt\n",
    "plt.imshow(training_images[0])\n",
    "print(training_labels[0])\n",
    "print(training_images[0])"
   ]
  },
  {
   "cell_type": "code",
   "execution_count": 42,
   "id": "905c17aa-0204-4c68-8591-457081352d71",
   "metadata": {},
   "outputs": [],
   "source": [
    "training_images  = training_images / 255.0\n",
    "test_images = test_images / 255.0"
   ]
  },
  {
   "cell_type": "code",
   "execution_count": 73,
   "id": "82838227-4f97-4b4b-bd24-220a4429908e",
   "metadata": {},
   "outputs": [],
   "source": [
    "model = tf.keras.models.Sequential([tf.keras.layers.Flatten(), \n",
    "                                    tf.keras.layers.Dense(128, activation=tf.nn.relu), \n",
    "                                    tf.keras.layers.Dense(10, activation=tf.nn.softmax)])"
   ]
  },
  {
   "cell_type": "code",
   "execution_count": 84,
   "id": "a360e870-1405-46a2-b3a6-0fd11a38d8fa",
   "metadata": {},
   "outputs": [
    {
     "name": "stdout",
     "output_type": "stream",
     "text": [
      "Epoch 1/10\n",
      "\u001b[1m1875/1875\u001b[0m \u001b[32m━━━━━━━━━━━━━━━━━━━━\u001b[0m\u001b[37m\u001b[0m \u001b[1m3s\u001b[0m 1ms/step - accuracy: 0.8614 - loss: 0.3954\n",
      "Epoch 2/10\n",
      "\u001b[1m1875/1875\u001b[0m \u001b[32m━━━━━━━━━━━━━━━━━━━━\u001b[0m\u001b[37m\u001b[0m \u001b[1m2s\u001b[0m 1ms/step - accuracy: 0.8610 - loss: 0.3916\n",
      "Epoch 3/10\n",
      "\u001b[1m1875/1875\u001b[0m \u001b[32m━━━━━━━━━━━━━━━━━━━━\u001b[0m\u001b[37m\u001b[0m \u001b[1m2s\u001b[0m 1ms/step - accuracy: 0.8615 - loss: 0.3885\n",
      "Epoch 4/10\n",
      "\u001b[1m1875/1875\u001b[0m \u001b[32m━━━━━━━━━━━━━━━━━━━━\u001b[0m\u001b[37m\u001b[0m \u001b[1m2s\u001b[0m 1ms/step - accuracy: 0.8650 - loss: 0.3776\n",
      "Epoch 5/10\n",
      "\u001b[1m1875/1875\u001b[0m \u001b[32m━━━━━━━━━━━━━━━━━━━━\u001b[0m\u001b[37m\u001b[0m \u001b[1m2s\u001b[0m 1ms/step - accuracy: 0.8640 - loss: 0.3823\n",
      "Epoch 6/10\n",
      "\u001b[1m1875/1875\u001b[0m \u001b[32m━━━━━━━━━━━━━━━━━━━━\u001b[0m\u001b[37m\u001b[0m \u001b[1m2s\u001b[0m 1ms/step - accuracy: 0.8662 - loss: 0.3742\n",
      "Epoch 7/10\n",
      "\u001b[1m1875/1875\u001b[0m \u001b[32m━━━━━━━━━━━━━━━━━━━━\u001b[0m\u001b[37m\u001b[0m \u001b[1m2s\u001b[0m 1ms/step - accuracy: 0.8675 - loss: 0.3709\n",
      "Epoch 8/10\n",
      "\u001b[1m1875/1875\u001b[0m \u001b[32m━━━━━━━━━━━━━━━━━━━━\u001b[0m\u001b[37m\u001b[0m \u001b[1m2s\u001b[0m 1ms/step - accuracy: 0.8694 - loss: 0.3667\n",
      "Epoch 9/10\n",
      "\u001b[1m1875/1875\u001b[0m \u001b[32m━━━━━━━━━━━━━━━━━━━━\u001b[0m\u001b[37m\u001b[0m \u001b[1m2s\u001b[0m 1ms/step - accuracy: 0.8689 - loss: 0.3677\n",
      "Epoch 10/10\n",
      "\u001b[1m1875/1875\u001b[0m \u001b[32m━━━━━━━━━━━━━━━━━━━━\u001b[0m\u001b[37m\u001b[0m \u001b[1m2s\u001b[0m 1ms/step - accuracy: 0.8711 - loss: 0.3663\n"
     ]
    },
    {
     "data": {
      "text/plain": [
       "<keras.src.callbacks.history.History at 0x2aeacb5a9f0>"
      ]
     },
     "execution_count": 84,
     "metadata": {},
     "output_type": "execute_result"
    }
   ],
   "source": [
    "model.compile(optimizer = tf.keras.optimizers.Adam(),\n",
    "              loss = 'sparse_categorical_crossentropy',\n",
    "              metrics=['accuracy'])\n",
    "\n",
    "model.fit(training_images, training_labels, epochs=10,callbacks=[callbacks])"
   ]
  },
  {
   "cell_type": "code",
   "execution_count": 78,
   "id": "51f50c21-e355-41ba-b171-763d65a10028",
   "metadata": {},
   "outputs": [
    {
     "name": "stdout",
     "output_type": "stream",
     "text": [
      "\u001b[1m313/313\u001b[0m \u001b[32m━━━━━━━━━━━━━━━━━━━━\u001b[0m\u001b[37m\u001b[0m \u001b[1m0s\u001b[0m 1ms/step - accuracy: 0.8506 - loss: 0.4254  \n"
     ]
    },
    {
     "data": {
      "text/plain": [
       "[0.43432822823524475, 0.8429999947547913]"
      ]
     },
     "execution_count": 78,
     "metadata": {},
     "output_type": "execute_result"
    }
   ],
   "source": [
    "model.evaluate(test_images, test_labels)"
   ]
  },
  {
   "cell_type": "code",
   "execution_count": 79,
   "id": "61502c60-995d-412b-9564-ddbf75687952",
   "metadata": {},
   "outputs": [
    {
     "name": "stdout",
     "output_type": "stream",
     "text": [
      "\u001b[1m313/313\u001b[0m \u001b[32m━━━━━━━━━━━━━━━━━━━━\u001b[0m\u001b[37m\u001b[0m \u001b[1m0s\u001b[0m 843us/step\n",
      "[3.6836727e-07 2.3241530e-08 2.5789825e-06 3.5023859e-06 4.5111378e-06\n",
      " 1.1212973e-01 1.1577393e-05 2.0909050e-01 2.4376113e-03 6.7631954e-01]\n"
     ]
    }
   ],
   "source": [
    "classifications = model.predict(test_images)\n",
    "\n",
    "print(classifications[0])"
   ]
  },
  {
   "cell_type": "code",
   "execution_count": 80,
   "id": "c9b7bb11-3bbc-4f11-a2c8-f8cade786d36",
   "metadata": {},
   "outputs": [
    {
     "name": "stdout",
     "output_type": "stream",
     "text": [
      "9\n"
     ]
    }
   ],
   "source": [
    "print(test_labels[0])"
   ]
  },
  {
   "cell_type": "code",
   "execution_count": null,
   "id": "c2a70d9b-0495-44d5-aee7-2a22c3a5d762",
   "metadata": {},
   "outputs": [],
   "source": []
  }
 ],
 "metadata": {
  "kernelspec": {
   "display_name": "Python 3 (ipykernel)",
   "language": "python",
   "name": "python3"
  },
  "language_info": {
   "codemirror_mode": {
    "name": "ipython",
    "version": 3
   },
   "file_extension": ".py",
   "mimetype": "text/x-python",
   "name": "python",
   "nbconvert_exporter": "python",
   "pygments_lexer": "ipython3",
   "version": "3.12.7"
  }
 },
 "nbformat": 4,
 "nbformat_minor": 5
}
