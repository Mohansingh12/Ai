{
 "cells": [
  {
   "cell_type": "code",
   "execution_count": 3,
   "id": "4945a24a-44a4-4280-a03b-cf60febacc6b",
   "metadata": {},
   "outputs": [],
   "source": [
    "import pandas as pd"
   ]
  },
  {
   "cell_type": "code",
   "execution_count": 4,
   "id": "1852d157-a3b5-48c9-bb6e-2f6e4c2fd508",
   "metadata": {},
   "outputs": [],
   "source": [
    "df=pd.read_csv(\"student_habits_performance.csv\")"
   ]
  },
  {
   "cell_type": "code",
   "execution_count": 5,
   "id": "adcffb97-fbdd-4ac1-ac05-b44a2403ab6a",
   "metadata": {},
   "outputs": [
    {
     "data": {
      "text/html": [
       "<div>\n",
       "<style scoped>\n",
       "    .dataframe tbody tr th:only-of-type {\n",
       "        vertical-align: middle;\n",
       "    }\n",
       "\n",
       "    .dataframe tbody tr th {\n",
       "        vertical-align: top;\n",
       "    }\n",
       "\n",
       "    .dataframe thead th {\n",
       "        text-align: right;\n",
       "    }\n",
       "</style>\n",
       "<table border=\"1\" class=\"dataframe\">\n",
       "  <thead>\n",
       "    <tr style=\"text-align: right;\">\n",
       "      <th></th>\n",
       "      <th>student_id</th>\n",
       "      <th>age</th>\n",
       "      <th>gender</th>\n",
       "      <th>study_hours_per_day</th>\n",
       "      <th>social_media_hours</th>\n",
       "      <th>netflix_hours</th>\n",
       "      <th>part_time_job</th>\n",
       "      <th>attendance_percentage</th>\n",
       "      <th>sleep_hours</th>\n",
       "      <th>diet_quality</th>\n",
       "      <th>exercise_frequency</th>\n",
       "      <th>parental_education_level</th>\n",
       "      <th>internet_quality</th>\n",
       "      <th>mental_health_rating</th>\n",
       "      <th>extracurricular_participation</th>\n",
       "      <th>exam_score</th>\n",
       "    </tr>\n",
       "  </thead>\n",
       "  <tbody>\n",
       "    <tr>\n",
       "      <th>0</th>\n",
       "      <td>S1000</td>\n",
       "      <td>23</td>\n",
       "      <td>Female</td>\n",
       "      <td>0.0</td>\n",
       "      <td>1.2</td>\n",
       "      <td>1.1</td>\n",
       "      <td>No</td>\n",
       "      <td>85.0</td>\n",
       "      <td>8.0</td>\n",
       "      <td>Fair</td>\n",
       "      <td>6</td>\n",
       "      <td>Master</td>\n",
       "      <td>Average</td>\n",
       "      <td>8</td>\n",
       "      <td>Yes</td>\n",
       "      <td>56.2</td>\n",
       "    </tr>\n",
       "    <tr>\n",
       "      <th>1</th>\n",
       "      <td>S1001</td>\n",
       "      <td>20</td>\n",
       "      <td>Female</td>\n",
       "      <td>6.9</td>\n",
       "      <td>2.8</td>\n",
       "      <td>2.3</td>\n",
       "      <td>No</td>\n",
       "      <td>97.3</td>\n",
       "      <td>4.6</td>\n",
       "      <td>Good</td>\n",
       "      <td>6</td>\n",
       "      <td>High School</td>\n",
       "      <td>Average</td>\n",
       "      <td>8</td>\n",
       "      <td>No</td>\n",
       "      <td>100.0</td>\n",
       "    </tr>\n",
       "    <tr>\n",
       "      <th>2</th>\n",
       "      <td>S1002</td>\n",
       "      <td>21</td>\n",
       "      <td>Male</td>\n",
       "      <td>1.4</td>\n",
       "      <td>3.1</td>\n",
       "      <td>1.3</td>\n",
       "      <td>No</td>\n",
       "      <td>94.8</td>\n",
       "      <td>8.0</td>\n",
       "      <td>Poor</td>\n",
       "      <td>1</td>\n",
       "      <td>High School</td>\n",
       "      <td>Poor</td>\n",
       "      <td>1</td>\n",
       "      <td>No</td>\n",
       "      <td>34.3</td>\n",
       "    </tr>\n",
       "    <tr>\n",
       "      <th>3</th>\n",
       "      <td>S1003</td>\n",
       "      <td>23</td>\n",
       "      <td>Female</td>\n",
       "      <td>1.0</td>\n",
       "      <td>3.9</td>\n",
       "      <td>1.0</td>\n",
       "      <td>No</td>\n",
       "      <td>71.0</td>\n",
       "      <td>9.2</td>\n",
       "      <td>Poor</td>\n",
       "      <td>4</td>\n",
       "      <td>Master</td>\n",
       "      <td>Good</td>\n",
       "      <td>1</td>\n",
       "      <td>Yes</td>\n",
       "      <td>26.8</td>\n",
       "    </tr>\n",
       "    <tr>\n",
       "      <th>4</th>\n",
       "      <td>S1004</td>\n",
       "      <td>19</td>\n",
       "      <td>Female</td>\n",
       "      <td>5.0</td>\n",
       "      <td>4.4</td>\n",
       "      <td>0.5</td>\n",
       "      <td>No</td>\n",
       "      <td>90.9</td>\n",
       "      <td>4.9</td>\n",
       "      <td>Fair</td>\n",
       "      <td>3</td>\n",
       "      <td>Master</td>\n",
       "      <td>Good</td>\n",
       "      <td>1</td>\n",
       "      <td>No</td>\n",
       "      <td>66.4</td>\n",
       "    </tr>\n",
       "  </tbody>\n",
       "</table>\n",
       "</div>"
      ],
      "text/plain": [
       "  student_id  age  gender  study_hours_per_day  social_media_hours  \\\n",
       "0      S1000   23  Female                  0.0                 1.2   \n",
       "1      S1001   20  Female                  6.9                 2.8   \n",
       "2      S1002   21    Male                  1.4                 3.1   \n",
       "3      S1003   23  Female                  1.0                 3.9   \n",
       "4      S1004   19  Female                  5.0                 4.4   \n",
       "\n",
       "   netflix_hours part_time_job  attendance_percentage  sleep_hours  \\\n",
       "0            1.1            No                   85.0          8.0   \n",
       "1            2.3            No                   97.3          4.6   \n",
       "2            1.3            No                   94.8          8.0   \n",
       "3            1.0            No                   71.0          9.2   \n",
       "4            0.5            No                   90.9          4.9   \n",
       "\n",
       "  diet_quality  exercise_frequency parental_education_level internet_quality  \\\n",
       "0         Fair                   6                   Master          Average   \n",
       "1         Good                   6              High School          Average   \n",
       "2         Poor                   1              High School             Poor   \n",
       "3         Poor                   4                   Master             Good   \n",
       "4         Fair                   3                   Master             Good   \n",
       "\n",
       "   mental_health_rating extracurricular_participation  exam_score  \n",
       "0                     8                           Yes        56.2  \n",
       "1                     8                            No       100.0  \n",
       "2                     1                            No        34.3  \n",
       "3                     1                           Yes        26.8  \n",
       "4                     1                            No        66.4  "
      ]
     },
     "execution_count": 5,
     "metadata": {},
     "output_type": "execute_result"
    }
   ],
   "source": [
    "df.head()"
   ]
  },
  {
   "cell_type": "code",
   "execution_count": 6,
   "id": "d622dd7a-35de-4700-8da0-2e3708d82119",
   "metadata": {},
   "outputs": [
    {
     "name": "stdout",
     "output_type": "stream",
     "text": [
      "<class 'pandas.core.frame.DataFrame'>\n",
      "RangeIndex: 1000 entries, 0 to 999\n",
      "Data columns (total 16 columns):\n",
      " #   Column                         Non-Null Count  Dtype  \n",
      "---  ------                         --------------  -----  \n",
      " 0   student_id                     1000 non-null   object \n",
      " 1   age                            1000 non-null   int64  \n",
      " 2   gender                         1000 non-null   object \n",
      " 3   study_hours_per_day            1000 non-null   float64\n",
      " 4   social_media_hours             1000 non-null   float64\n",
      " 5   netflix_hours                  1000 non-null   float64\n",
      " 6   part_time_job                  1000 non-null   object \n",
      " 7   attendance_percentage          1000 non-null   float64\n",
      " 8   sleep_hours                    1000 non-null   float64\n",
      " 9   diet_quality                   1000 non-null   object \n",
      " 10  exercise_frequency             1000 non-null   int64  \n",
      " 11  parental_education_level       909 non-null    object \n",
      " 12  internet_quality               1000 non-null   object \n",
      " 13  mental_health_rating           1000 non-null   int64  \n",
      " 14  extracurricular_participation  1000 non-null   object \n",
      " 15  exam_score                     1000 non-null   float64\n",
      "dtypes: float64(6), int64(3), object(7)\n",
      "memory usage: 125.1+ KB\n"
     ]
    }
   ],
   "source": [
    "df.info()"
   ]
  },
  {
   "cell_type": "code",
   "execution_count": 8,
   "id": "35ee97af-affa-47ac-9468-e32814723334",
   "metadata": {},
   "outputs": [
    {
     "data": {
      "text/plain": [
       "student_id                        0\n",
       "age                               0\n",
       "gender                            0\n",
       "study_hours_per_day               0\n",
       "social_media_hours                0\n",
       "netflix_hours                     0\n",
       "part_time_job                     0\n",
       "attendance_percentage             0\n",
       "sleep_hours                       0\n",
       "diet_quality                      0\n",
       "exercise_frequency                0\n",
       "parental_education_level         91\n",
       "internet_quality                  0\n",
       "mental_health_rating              0\n",
       "extracurricular_participation     0\n",
       "exam_score                        0\n",
       "dtype: int64"
      ]
     },
     "execution_count": 8,
     "metadata": {},
     "output_type": "execute_result"
    }
   ],
   "source": [
    "df.isnull().sum()"
   ]
  },
  {
   "cell_type": "code",
   "execution_count": 11,
   "id": "4a9ad6ae-0d20-4478-be30-69150b1f1a9f",
   "metadata": {},
   "outputs": [
    {
     "data": {
      "text/plain": [
       "0"
      ]
     },
     "execution_count": 11,
     "metadata": {},
     "output_type": "execute_result"
    }
   ],
   "source": [
    "df.duplicated().sum()"
   ]
  },
  {
   "cell_type": "code",
   "execution_count": null,
   "id": "90b6d5bf-9448-4801-8f43-b2e2aff51cd6",
   "metadata": {},
   "outputs": [],
   "source": []
  }
 ],
 "metadata": {
  "kernelspec": {
   "display_name": "Python 3 (ipykernel)",
   "language": "python",
   "name": "python3"
  },
  "language_info": {
   "codemirror_mode": {
    "name": "ipython",
    "version": 3
   },
   "file_extension": ".py",
   "mimetype": "text/x-python",
   "name": "python",
   "nbconvert_exporter": "python",
   "pygments_lexer": "ipython3",
   "version": "3.12.7"
  }
 },
 "nbformat": 4,
 "nbformat_minor": 5
}
