{
 "cells": [
  {
   "cell_type": "code",
   "execution_count": 1,
   "id": "4945a24a-44a4-4280-a03b-cf60febacc6b",
   "metadata": {},
   "outputs": [],
   "source": [
    "import pandas as pd"
   ]
  },
  {
   "cell_type": "code",
   "execution_count": 2,
   "id": "1852d157-a3b5-48c9-bb6e-2f6e4c2fd508",
   "metadata": {},
   "outputs": [],
   "source": [
    "df=pd.read_csv(\"student_habits_performance.csv\")"
   ]
  },
  {
   "cell_type": "code",
   "execution_count": null,
   "id": "adcffb97-fbdd-4ac1-ac05-b44a2403ab6a",
   "metadata": {},
   "outputs": [],
   "source": []
  }
 ],
 "metadata": {
  "kernelspec": {
   "display_name": "Python 3 (ipykernel)",
   "language": "python",
   "name": "python3"
  },
  "language_info": {
   "codemirror_mode": {
    "name": "ipython",
    "version": 3
   },
   "file_extension": ".py",
   "mimetype": "text/x-python",
   "name": "python",
   "nbconvert_exporter": "python",
   "pygments_lexer": "ipython3",
   "version": "3.12.7"
  }
 },
 "nbformat": 4,
 "nbformat_minor": 5
}
